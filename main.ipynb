{
 "cells": [
  {
   "cell_type": "code",
   "execution_count": 8,
   "metadata": {},
   "outputs": [],
   "source": [
    "import os\n",
    "import torch\n",
    "import torch.nn as nn\n",
    "import torch.optim as optim\n",
    "from torch.utils.data import DataLoader\n",
    "from torchvision import datasets, transforms\n"
   ]
  },
  {
   "cell_type": "code",
   "execution_count": 9,
   "metadata": {},
   "outputs": [],
   "source": [
    "train_dir = \"data/train\"\n",
    "test_dir  = \"data/test\"\n",
    "\n",
    "device = \"cuda\" if torch.cuda.is_available() else \"cpu\"\n",
    "num_epochs = 60\n",
    "batch_size = 128\n",
    "learning_rate = 1e-4"
   ]
  },
  {
   "cell_type": "code",
   "execution_count": 10,
   "metadata": {},
   "outputs": [
    {
     "name": "stdout",
     "output_type": "stream",
     "text": [
      "Classes: ['Apple Scab Leaf', 'Apple leaf', 'Apple rust leaf', 'Bell_pepper leaf', 'Bell_pepper leaf spot', 'Blueberry leaf', 'Cherry leaf', 'Corn Gray leaf spot', 'Corn leaf blight', 'Corn rust leaf', 'Peach leaf', 'Potato leaf early blight', 'Potato leaf late blight', 'Raspberry leaf', 'Soyabean leaf', 'Squash Powdery mildew leaf', 'Strawberry leaf', 'Tomato Early blight leaf', 'Tomato Septoria leaf spot', 'Tomato leaf', 'Tomato leaf bacterial spot', 'Tomato leaf late blight', 'Tomato leaf mosaic virus', 'Tomato leaf yellow virus', 'Tomato mold leaf', 'Tomato two spotted spider mites leaf', 'grape leaf', 'grape leaf black rot']\n",
      "Number of classes: 28\n"
     ]
    }
   ],
   "source": [
    "train_transforms = transforms.Compose([\n",
    "    transforms.Resize((224, 224)),\n",
    "    transforms.RandomHorizontalFlip(),\n",
    "    transforms.RandomRotation(15),\n",
    "    transforms.ToTensor(),\n",
    "    transforms.Normalize([0.485, 0.456, 0.406],\n",
    "                         [0.229, 0.224, 0.225])\n",
    "])\n",
    "\n",
    "test_transforms = transforms.Compose([\n",
    "    transforms.Resize((224, 224)),\n",
    "    transforms.ToTensor(),\n",
    "    transforms.Normalize([0.485, 0.456, 0.406],\n",
    "                         [0.229, 0.224, 0.225])\n",
    "])\n",
    "\n",
    "train_dataset = datasets.ImageFolder(root=train_dir, transform=train_transforms)\n",
    "test_dataset  = datasets.ImageFolder(root=test_dir,  transform=test_transforms)\n",
    "\n",
    "train_loader = DataLoader(train_dataset, batch_size=batch_size, shuffle=True,  num_workers=2)\n",
    "test_loader  = DataLoader(test_dataset,  batch_size=batch_size, shuffle=False, num_workers=2)\n",
    "\n",
    "num_classes = len(train_dataset.classes)\n",
    "print(\"Classes:\", train_dataset.classes)\n",
    "print(\"Number of classes:\", num_classes)\n"
   ]
  },
  {
   "cell_type": "code",
   "execution_count": 11,
   "metadata": {},
   "outputs": [],
   "source": [
    "class PlantDiseaseCNN(nn.Module):\n",
    "    def __init__(self, num_classes):\n",
    "        super(PlantDiseaseCNN, self).__init__()\n",
    "        self.conv1 = nn.Conv2d(3, 32, kernel_size=3, stride=1, padding=1)\n",
    "        self.relu  = nn.ReLU()\n",
    "        self.pool  = nn.MaxPool2d(kernel_size=2, stride=2)\n",
    "        # After pooling once on 224x224 => shape is [32, 112, 112]\n",
    "        self.fc1   = nn.Linear(32 * 112 * 112, num_classes)\n",
    "\n",
    "    def forward(self, x):\n",
    "        x = self.conv1(x)\n",
    "        x = self.relu(x)\n",
    "        x = self.pool(x)             # from 224->112\n",
    "        x = x.view(x.size(0), -1)    # flatten\n",
    "        x = self.fc1(x)              # logits\n",
    "        return x\n",
    "\n",
    "model = PlantDiseaseCNN(num_classes).to(device)\n"
   ]
  },
  {
   "cell_type": "code",
   "execution_count": 12,
   "metadata": {},
   "outputs": [],
   "source": [
    "criterion = nn.CrossEntropyLoss()\n",
    "optimizer = optim.Adam(model.parameters(), lr=learning_rate)"
   ]
  },
  {
   "cell_type": "code",
   "execution_count": 13,
   "metadata": {},
   "outputs": [],
   "source": [
    "def train_model(model, train_loader, test_loader, criterion, optimizer, num_epochs=30, device='cpu'):\n",
    "    for epoch in range(num_epochs):\n",
    "        # ---- TRAIN PHASE ----\n",
    "        model.train()\n",
    "        train_loss, train_correct, train_total = 0.0, 0, 0\n",
    "        \n",
    "        for images, labels in train_loader:\n",
    "            images, labels = images.to(device), labels.to(device)\n",
    "\n",
    "            optimizer.zero_grad()\n",
    "            outputs = model(images)\n",
    "            loss = criterion(outputs, labels)\n",
    "            loss.backward()\n",
    "            optimizer.step()\n",
    "\n",
    "            train_loss += loss.item() * images.size(0)\n",
    "            _, predicted = torch.max(outputs, 1)\n",
    "            train_correct += (predicted == labels).sum().item()\n",
    "            train_total   += labels.size(0)\n",
    "\n",
    "        epoch_train_loss = train_loss / train_total\n",
    "        epoch_train_acc  = 100.0 * train_correct / train_total\n",
    "\n",
    "        # ---- TEST PHASE ----\n",
    "        model.eval()\n",
    "        test_loss, test_correct, test_total = 0.0, 0, 0\n",
    "        with torch.no_grad():\n",
    "            for images, labels in test_loader:\n",
    "                images, labels = images.to(device), labels.to(device)\n",
    "                outputs = model(images)\n",
    "                loss = criterion(outputs, labels)\n",
    "                \n",
    "                test_loss += loss.item() * images.size(0)\n",
    "                _, predicted = torch.max(outputs, 1)\n",
    "                test_correct += (predicted == labels).sum().item()\n",
    "                test_total   += labels.size(0)\n",
    "\n",
    "        epoch_test_loss = test_loss / test_total\n",
    "        epoch_test_acc  = 100.0 * test_correct / test_total\n",
    "\n",
    "        print(f\"Epoch [{epoch+1}/{num_epochs}] \"\n",
    "              f\"Train Loss: {epoch_train_loss:.4f} | Train Acc: {epoch_train_acc:.2f}% || \"\n",
    "              f\"Test Loss: {epoch_test_loss:.4f} | Test Acc: {epoch_test_acc:.2f}%\")\n"
   ]
  },
  {
   "cell_type": "code",
   "execution_count": 14,
   "metadata": {},
   "outputs": [
    {
     "name": "stdout",
     "output_type": "stream",
     "text": [
      "Epoch [1/60] Train Loss: 15.1442 | Train Acc: 5.86% || Test Loss: 18.3965 | Test Acc: 5.93%\n",
      "Epoch [2/60] Train Loss: 7.8532 | Train Acc: 10.36% || Test Loss: 10.0662 | Test Acc: 8.47%\n",
      "Epoch [3/60] Train Loss: 4.5618 | Train Acc: 15.54% || Test Loss: 7.2577 | Test Acc: 8.05%\n",
      "Epoch [4/60] Train Loss: 3.5152 | Train Acc: 20.08% || Test Loss: 6.4388 | Test Acc: 11.86%\n",
      "Epoch [5/60] Train Loss: 3.2432 | Train Acc: 21.53% || Test Loss: 6.8819 | Test Acc: 7.20%\n",
      "Epoch [6/60] Train Loss: 3.2982 | Train Acc: 23.42% || Test Loss: 6.0098 | Test Acc: 9.32%\n",
      "Epoch [7/60] Train Loss: 3.0831 | Train Acc: 26.11% || Test Loss: 6.7500 | Test Acc: 8.90%\n",
      "Epoch [8/60] Train Loss: 3.1631 | Train Acc: 25.77% || Test Loss: 6.1886 | Test Acc: 8.05%\n",
      "Epoch [9/60] Train Loss: 2.9772 | Train Acc: 27.83% || Test Loss: 5.4683 | Test Acc: 12.71%\n",
      "Epoch [10/60] Train Loss: 2.7040 | Train Acc: 30.95% || Test Loss: 5.8500 | Test Acc: 12.29%\n",
      "Epoch [11/60] Train Loss: 2.8378 | Train Acc: 31.38% || Test Loss: 7.0883 | Test Acc: 11.44%\n",
      "Epoch [12/60] Train Loss: 2.8004 | Train Acc: 30.95% || Test Loss: 6.5160 | Test Acc: 10.59%\n",
      "Epoch [13/60] Train Loss: 2.7927 | Train Acc: 30.22% || Test Loss: 6.2561 | Test Acc: 11.02%\n",
      "Epoch [14/60] Train Loss: 2.5551 | Train Acc: 34.38% || Test Loss: 6.9717 | Test Acc: 9.32%\n",
      "Epoch [15/60] Train Loss: 2.4463 | Train Acc: 35.49% || Test Loss: 6.4071 | Test Acc: 9.75%\n",
      "Epoch [16/60] Train Loss: 2.3723 | Train Acc: 36.17% || Test Loss: 7.3001 | Test Acc: 8.90%\n",
      "Epoch [17/60] Train Loss: 2.3480 | Train Acc: 37.20% || Test Loss: 6.9707 | Test Acc: 11.86%\n",
      "Epoch [18/60] Train Loss: 2.1887 | Train Acc: 39.21% || Test Loss: 6.5143 | Test Acc: 13.56%\n",
      "Epoch [19/60] Train Loss: 2.2026 | Train Acc: 40.33% || Test Loss: 6.4202 | Test Acc: 11.02%\n",
      "Epoch [20/60] Train Loss: 2.2090 | Train Acc: 39.68% || Test Loss: 6.3913 | Test Acc: 13.56%\n",
      "Epoch [21/60] Train Loss: 2.1954 | Train Acc: 41.40% || Test Loss: 7.0766 | Test Acc: 12.71%\n",
      "Epoch [22/60] Train Loss: 2.0992 | Train Acc: 42.34% || Test Loss: 6.5166 | Test Acc: 11.02%\n",
      "Epoch [23/60] Train Loss: 2.0524 | Train Acc: 42.59% || Test Loss: 6.7278 | Test Acc: 12.71%\n",
      "Epoch [24/60] Train Loss: 1.9846 | Train Acc: 46.06% || Test Loss: 6.4265 | Test Acc: 11.86%\n",
      "Epoch [25/60] Train Loss: 1.8751 | Train Acc: 46.10% || Test Loss: 6.2553 | Test Acc: 14.41%\n",
      "Epoch [26/60] Train Loss: 1.8254 | Train Acc: 48.37% || Test Loss: 5.9790 | Test Acc: 12.71%\n",
      "Epoch [27/60] Train Loss: 1.8034 | Train Acc: 48.07% || Test Loss: 6.6206 | Test Acc: 12.29%\n",
      "Epoch [28/60] Train Loss: 1.9559 | Train Acc: 45.98% || Test Loss: 6.5203 | Test Acc: 11.02%\n",
      "Epoch [29/60] Train Loss: 1.8676 | Train Acc: 48.50% || Test Loss: 6.3097 | Test Acc: 14.41%\n",
      "Epoch [30/60] Train Loss: 1.7367 | Train Acc: 50.34% || Test Loss: 5.8190 | Test Acc: 13.14%\n",
      "Epoch [31/60] Train Loss: 1.7592 | Train Acc: 49.57% || Test Loss: 6.1104 | Test Acc: 13.56%\n",
      "Epoch [32/60] Train Loss: 1.6013 | Train Acc: 53.68% || Test Loss: 6.1146 | Test Acc: 13.56%\n",
      "Epoch [33/60] Train Loss: 1.6531 | Train Acc: 52.65% || Test Loss: 6.2364 | Test Acc: 13.14%\n",
      "Epoch [34/60] Train Loss: 1.6190 | Train Acc: 52.01% || Test Loss: 6.1481 | Test Acc: 13.56%\n",
      "Epoch [35/60] Train Loss: 1.7276 | Train Acc: 49.44% || Test Loss: 6.3481 | Test Acc: 12.29%\n",
      "Epoch [36/60] Train Loss: 1.5713 | Train Acc: 53.47% || Test Loss: 6.5213 | Test Acc: 10.59%\n",
      "Epoch [37/60] Train Loss: 1.5250 | Train Acc: 55.18% || Test Loss: 6.0624 | Test Acc: 12.29%\n",
      "Epoch [38/60] Train Loss: 1.5169 | Train Acc: 56.12% || Test Loss: 5.9558 | Test Acc: 13.56%\n",
      "Epoch [39/60] Train Loss: 1.4560 | Train Acc: 56.64% || Test Loss: 6.0027 | Test Acc: 14.41%\n",
      "Epoch [40/60] Train Loss: 1.4624 | Train Acc: 57.32% || Test Loss: 5.9365 | Test Acc: 13.98%\n",
      "Epoch [41/60] Train Loss: 1.4904 | Train Acc: 57.36% || Test Loss: 6.1184 | Test Acc: 14.41%\n",
      "Epoch [42/60] Train Loss: 1.4516 | Train Acc: 58.09% || Test Loss: 6.1529 | Test Acc: 16.95%\n",
      "Epoch [43/60] Train Loss: 1.5060 | Train Acc: 56.12% || Test Loss: 5.9651 | Test Acc: 18.64%\n",
      "Epoch [44/60] Train Loss: 1.3464 | Train Acc: 59.20% || Test Loss: 6.3952 | Test Acc: 12.29%\n",
      "Epoch [45/60] Train Loss: 1.4393 | Train Acc: 57.62% || Test Loss: 6.3458 | Test Acc: 12.71%\n",
      "Epoch [46/60] Train Loss: 1.4115 | Train Acc: 58.30% || Test Loss: 6.2276 | Test Acc: 15.68%\n",
      "Epoch [47/60] Train Loss: 1.3947 | Train Acc: 59.42% || Test Loss: 6.0931 | Test Acc: 13.98%\n",
      "Epoch [48/60] Train Loss: 1.2097 | Train Acc: 64.38% || Test Loss: 6.0511 | Test Acc: 16.10%\n",
      "Epoch [49/60] Train Loss: 1.2687 | Train Acc: 62.84% || Test Loss: 6.3397 | Test Acc: 16.10%\n",
      "Epoch [50/60] Train Loss: 1.2021 | Train Acc: 64.26% || Test Loss: 6.0335 | Test Acc: 16.95%\n",
      "Epoch [51/60] Train Loss: 1.2528 | Train Acc: 64.08% || Test Loss: 6.2939 | Test Acc: 13.98%\n",
      "Epoch [52/60] Train Loss: 1.1921 | Train Acc: 64.04% || Test Loss: 6.2974 | Test Acc: 14.41%\n",
      "Epoch [53/60] Train Loss: 1.2566 | Train Acc: 63.61% || Test Loss: 6.1542 | Test Acc: 16.53%\n",
      "Epoch [54/60] Train Loss: 1.1163 | Train Acc: 68.36% || Test Loss: 5.8976 | Test Acc: 15.68%\n",
      "Epoch [55/60] Train Loss: 1.0306 | Train Acc: 69.86% || Test Loss: 5.9985 | Test Acc: 16.10%\n",
      "Epoch [56/60] Train Loss: 1.0850 | Train Acc: 68.28% || Test Loss: 6.0818 | Test Acc: 16.95%\n",
      "Epoch [57/60] Train Loss: 1.1242 | Train Acc: 66.82% || Test Loss: 6.2845 | Test Acc: 16.53%\n",
      "Epoch [58/60] Train Loss: 1.1248 | Train Acc: 66.31% || Test Loss: 6.0225 | Test Acc: 18.64%\n",
      "Epoch [59/60] Train Loss: 1.1067 | Train Acc: 67.98% || Test Loss: 6.3979 | Test Acc: 13.98%\n",
      "Epoch [60/60] Train Loss: 1.0822 | Train Acc: 67.47% || Test Loss: 6.2925 | Test Acc: 16.53%\n"
     ]
    }
   ],
   "source": [
    "train_model(model, train_loader, test_loader, criterion, optimizer, num_epochs=num_epochs, device=device)"
   ]
  }
 ],
 "metadata": {
  "kernelspec": {
   "display_name": "base",
   "language": "python",
   "name": "python3"
  },
  "language_info": {
   "codemirror_mode": {
    "name": "ipython",
    "version": 3
   },
   "file_extension": ".py",
   "mimetype": "text/x-python",
   "name": "python",
   "nbconvert_exporter": "python",
   "pygments_lexer": "ipython3",
   "version": "3.12.2"
  }
 },
 "nbformat": 4,
 "nbformat_minor": 2
}
