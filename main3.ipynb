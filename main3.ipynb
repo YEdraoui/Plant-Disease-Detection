{
 "cells": [
  {
   "cell_type": "code",
   "execution_count": 1,
   "metadata": {},
   "outputs": [],
   "source": [
    "import torch\n",
    "import torch.nn as nn\n",
    "import torch.nn.functional as F\n",
    "import torch.optim as optim\n",
    "from torch.optim.lr_scheduler import OneCycleLR\n",
    "import torchvision.transforms as transforms\n",
    "from torchvision import datasets\n",
    "# Use a bigger EfficientNet variant, e.g. b3\n",
    "from torchvision.models import efficientnet_b3\n",
    "\n",
    "import numpy as np\n",
    "import os\n",
    "from torch.utils.data import DataLoader\n",
    "import random\n",
    "import math\n",
    "import copy\n",
    "\n",
    "import matplotlib.pyplot as plt\n"
   ]
  },
  {
   "cell_type": "code",
   "execution_count": 2,
   "metadata": {},
   "outputs": [],
   "source": [
    "\n",
    "# --------------------------\n",
    "# Mixup Utilities\n",
    "# --------------------------\n",
    "\n",
    "def mixup_data(inputs, labels, alpha=1.0):\n",
    "    \"\"\"Returns mixed inputs, pairs of targets, and lambda.\"\"\"\n",
    "    if alpha <= 0:\n",
    "        return inputs, labels, labels, 1.0\n",
    "\n",
    "    batch_size = inputs.size(0)\n",
    "    lam = np.random.beta(alpha, alpha)\n",
    "    index = torch.randperm(batch_size).to(inputs.device)\n",
    "\n",
    "    mixed_inputs = lam * inputs + (1 - lam) * inputs[index, :]\n",
    "    labels_a, labels_b = labels, labels[index]\n",
    "    return mixed_inputs, labels_a, labels_b, lam\n",
    "\n",
    "def mixup_criterion(criterion, pred, y_a, y_b, lam):\n",
    "    return lam * criterion(pred, y_a) + (1 - lam) * criterion(pred, y_b)\n"
   ]
  },
  {
   "cell_type": "code",
   "execution_count": 3,
   "metadata": {},
   "outputs": [],
   "source": [
    "\n",
    "# --------------------------\n",
    "# Hyperparameters\n",
    "# --------------------------\n",
    "IMAGE_SIZE = 300  # Larger than 224 for a bigger EfficientNet\n",
    "BATCH_SIZE = 32   # You might need to reduce if you run out of memory\n",
    "EPOCHS = 40\n",
    "FREEZE_EPOCH = 5   # epoch to partially unfreeze\n",
    "UNFREEZE_EPOCH = 15  # epoch to unfreeze more layers\n",
    "\n",
    "# Adjust MixUp alpha if needed\n",
    "MIXUP_ALPHA = 0.4\n",
    "\n",
    "# Label smoothing can be reduced or removed if it's hurting performance\n",
    "criterion = nn.CrossEntropyLoss(label_smoothing=0.05)\n"
   ]
  },
  {
   "cell_type": "code",
   "execution_count": 4,
   "metadata": {},
   "outputs": [
    {
     "name": "stdout",
     "output_type": "stream",
     "text": [
      "Using device: cpu\n"
     ]
    }
   ],
   "source": [
    "# --------------------------\n",
    "# Data Augmentation\n",
    "# --------------------------\n",
    "\n",
    "# Stronger augmentation for training\n",
    "train_transforms = transforms.Compose([\n",
    "    transforms.RandomResizedCrop(IMAGE_SIZE, scale=(0.8, 1.0)),\n",
    "    transforms.RandomHorizontalFlip(),\n",
    "    transforms.RandomRotation(degrees=15),\n",
    "    transforms.RandomPerspective(distortion_scale=0.2, p=0.5),\n",
    "    transforms.ColorJitter(brightness=0.3, contrast=0.3, saturation=0.2, hue=0.1),\n",
    "    transforms.ToTensor(),\n",
    "    transforms.Normalize([0.485, 0.456, 0.406], [0.229, 0.224, 0.225]),\n",
    "])\n",
    "\n",
    "# Testing/Validation transforms\n",
    "test_transforms = transforms.Compose([\n",
    "    transforms.Resize(IMAGE_SIZE + 32),\n",
    "    transforms.CenterCrop(IMAGE_SIZE),\n",
    "    transforms.ToTensor(),\n",
    "    transforms.Normalize([0.485, 0.456, 0.406], [0.229, 0.224, 0.225]),\n",
    "])\n",
    "\n",
    "train_dir = \"data/train\"\n",
    "test_dir  = \"data/test\"\n",
    "\n",
    "image_datasets = {\n",
    "    'train': datasets.ImageFolder(train_dir, transform=train_transforms),\n",
    "    'test': datasets.ImageFolder(test_dir, transform=test_transforms)\n",
    "}\n",
    "\n",
    "dataloaders = {\n",
    "    'train': DataLoader(image_datasets['train'], batch_size=BATCH_SIZE, shuffle=True, num_workers=4),\n",
    "    'test': DataLoader(image_datasets['test'], batch_size=BATCH_SIZE, shuffle=False, num_workers=4)\n",
    "}\n",
    "\n",
    "dataset_sizes = {x: len(image_datasets[x]) for x in ['train', 'test']}\n",
    "class_names = image_datasets['train'].classes\n",
    "num_classes = len(class_names)\n",
    "\n",
    "device = torch.device(\"cuda\" if torch.cuda.is_available() else \"cpu\")\n",
    "print(f\"Using device: {device}\")"
   ]
  },
  {
   "cell_type": "code",
   "execution_count": 5,
   "metadata": {},
   "outputs": [
    {
     "name": "stderr",
     "output_type": "stream",
     "text": [
      "/opt/anaconda3/lib/python3.12/site-packages/torchvision/models/_utils.py:208: UserWarning: The parameter 'pretrained' is deprecated since 0.13 and may be removed in the future, please use 'weights' instead.\n",
      "  warnings.warn(\n",
      "/opt/anaconda3/lib/python3.12/site-packages/torchvision/models/_utils.py:223: UserWarning: Arguments other than a weight enum or `None` for 'weights' are deprecated since 0.13 and may be removed in the future. The current behavior is equivalent to passing `weights=EfficientNet_B3_Weights.IMAGENET1K_V1`. You can also use `weights=EfficientNet_B3_Weights.DEFAULT` to get the most up-to-date weights.\n",
      "  warnings.warn(msg)\n"
     ]
    }
   ],
   "source": [
    "# --------------------------\n",
    "# Model Setup\n",
    "# --------------------------\n",
    "\n",
    "# Use a bigger EfficientNet (b3). If memory is an issue, revert to b0.\n",
    "model = efficientnet_b3(pretrained=True)\n",
    "\n",
    "# Number of features in the last linear layer\n",
    "num_ftrs = model.classifier[1].in_features\n",
    "\n",
    "# Replace the classifier\n",
    "# Use a deeper classifier\n",
    "model.classifier = nn.Sequential(\n",
    "    nn.Linear(num_ftrs, 512),\n",
    "    nn.BatchNorm1d(512),\n",
    "    nn.ReLU(inplace=True),\n",
    "    nn.Dropout(0.4),\n",
    "    nn.Linear(512, 256),\n",
    "    nn.BatchNorm1d(256),\n",
    "    nn.ReLU(inplace=True),\n",
    "    nn.Dropout(0.3),\n",
    "    nn.Linear(256, num_classes)\n",
    ")\n",
    "\n",
    "model = model.to(device)\n",
    "\n"
   ]
  },
  {
   "cell_type": "code",
   "execution_count": 6,
   "metadata": {},
   "outputs": [],
   "source": [
    "# --------------------------\n",
    "# Freezing Strategy\n",
    "# --------------------------\n",
    "# 1) Initially freeze all layers except the classifier\n",
    "for param in model.features.parameters():\n",
    "    param.requires_grad = False\n",
    "\n",
    "# --------------------------\n",
    "# Optimizer and Scheduler\n",
    "# --------------------------\n",
    "# Start optimizing only the classifier with a moderate LR\n",
    "optimizer = optim.AdamW(model.classifier.parameters(), lr=1e-3, weight_decay=1e-5)\n",
    "scheduler = OneCycleLR(optimizer, max_lr=1e-3, steps_per_epoch=len(dataloaders['train']), epochs=EPOCHS)\n",
    "\n"
   ]
  },
  {
   "cell_type": "code",
   "execution_count": 7,
   "metadata": {},
   "outputs": [],
   "source": [
    "# --------------------------\n",
    "# Training Function\n",
    "# --------------------------\n",
    "def train_model(model, dataloaders, criterion, optimizer, scheduler, num_epochs=30):\n",
    "    best_acc = 0.0\n",
    "    best_model_wts = copy.deepcopy(model.state_dict())\n",
    "\n",
    "    # Keep track of loss/accuracy for plotting\n",
    "    train_losses, test_losses = [], []\n",
    "    train_accuracies, test_accuracies = [], []\n",
    "\n",
    "    for epoch in range(num_epochs):\n",
    "        print(f\"Epoch {epoch}/{num_epochs-1}\")\n",
    "        print('-' * 10)\n",
    "\n",
    "        # ------------------------------\n",
    "        # Progressive Unfreezing\n",
    "        # ------------------------------\n",
    "        if epoch == FREEZE_EPOCH:\n",
    "            print(\"Unfreezing top layers...\")\n",
    "            # Example: Unfreeze the last 2 blocks of EfficientNet\n",
    "            # for param in model.features[6:].parameters():\n",
    "            #     param.requires_grad = True\n",
    "            #\n",
    "            # Or unfreeze half the blocks, etc. \n",
    "            # For simplicity here, let's unfreeze the last half:\n",
    "            # (b3 has about 8 blocks total, you can tune carefully)\n",
    "            total_blocks = len(model.features)\n",
    "            blocks_to_unfreeze = total_blocks // 2  # last half\n",
    "            for i in range(blocks_to_unfreeze, total_blocks):\n",
    "                for param in model.features[i].parameters():\n",
    "                    param.requires_grad = True\n",
    "\n",
    "            # Redefine optimizer to now include these layers\n",
    "            optimizer = optim.AdamW(filter(lambda p: p.requires_grad, model.parameters()), \n",
    "                                    lr=5e-4, weight_decay=1e-5)\n",
    "            scheduler = OneCycleLR(optimizer, max_lr=5e-4, \n",
    "                                   steps_per_epoch=len(dataloaders['train']), \n",
    "                                   epochs=num_epochs - FREEZE_EPOCH, \n",
    "                                   pct_start=0.3)\n",
    "\n",
    "        if epoch == UNFREEZE_EPOCH:\n",
    "            print(\"Unfreezing remaining layers (full fine-tuning)...\")\n",
    "            # Unfreeze entire backbone\n",
    "            for param in model.features.parameters():\n",
    "                param.requires_grad = True\n",
    "\n",
    "            # Redefine the optimizer & scheduler\n",
    "            optimizer = optim.AdamW(model.parameters(), lr=1e-4, weight_decay=1e-5)\n",
    "            scheduler = OneCycleLR(optimizer, max_lr=1e-4, \n",
    "                                   steps_per_epoch=len(dataloaders['train']), \n",
    "                                   epochs=num_epochs - UNFREEZE_EPOCH, \n",
    "                                   pct_start=0.3)\n",
    "\n",
    "        # Each epoch has a training and a validation phase\n",
    "        for phase in ['train', 'test']:\n",
    "            if phase == 'train':\n",
    "                model.train()\n",
    "            else:\n",
    "                model.eval()\n",
    "\n",
    "            running_loss = 0.0\n",
    "            running_corrects = 0\n",
    "\n",
    "            for inputs, labels in dataloaders[phase]:\n",
    "                inputs = inputs.to(device)\n",
    "                labels = labels.to(device)\n",
    "\n",
    "                optimizer.zero_grad()\n",
    "\n",
    "                if phase == 'train':\n",
    "                    # Mixup augmentation\n",
    "                    inputs_mixed, labels_a, labels_b, lam = mixup_data(inputs, labels, alpha=MIXUP_ALPHA)\n",
    "                    outputs = model(inputs_mixed)\n",
    "                    loss = mixup_criterion(criterion, outputs, labels_a, labels_b, lam)\n",
    "                else:\n",
    "                    # Validation/test without mixup\n",
    "                    outputs = model(inputs)\n",
    "                    loss = criterion(outputs, labels)\n",
    "\n",
    "                # Predictions\n",
    "                _, preds = torch.max(outputs, 1)\n",
    "\n",
    "                if phase == 'train':\n",
    "                    loss.backward()\n",
    "                    optimizer.step()\n",
    "                    scheduler.step()\n",
    "\n",
    "                running_loss += loss.item() * inputs.size(0)\n",
    "                # For mixup, we'll still approximate accuracy by comparing preds with the original labels\n",
    "                running_corrects += torch.sum(preds == labels.data)\n",
    "\n",
    "            epoch_loss = running_loss / dataset_sizes[phase]\n",
    "            epoch_acc = running_corrects.double() / dataset_sizes[phase]\n",
    "\n",
    "            if phase == 'train':\n",
    "                train_losses.append(epoch_loss)\n",
    "                train_accuracies.append(epoch_acc.item())\n",
    "            else:\n",
    "                test_losses.append(epoch_loss)\n",
    "                test_accuracies.append(epoch_acc.item())\n",
    "\n",
    "            print(f'{phase} Loss: {epoch_loss:.4f} Acc: {epoch_acc:.4f}')\n",
    "\n",
    "            # deep copy the model\n",
    "            if phase == 'test' and epoch_acc > best_acc:\n",
    "                best_acc = epoch_acc\n",
    "                best_model_wts = copy.deepcopy(model.state_dict())\n",
    "\n",
    "        print()\n",
    "\n",
    "    print(f\"Best test Acc: {best_acc:.4f}\")\n",
    "    # load best model weights\n",
    "    model.load_state_dict(best_model_wts)\n",
    "\n",
    "    return model, (train_losses, test_losses, train_accuracies, test_accuracies)\n"
   ]
  },
  {
   "cell_type": "code",
   "execution_count": 8,
   "metadata": {},
   "outputs": [
    {
     "name": "stdout",
     "output_type": "stream",
     "text": [
      "Epoch 0/39\n",
      "----------\n"
     ]
    },
    {
     "name": "stdout",
     "output_type": "stream",
     "text": [
      "train Loss: 3.3696 Acc: 0.0458\n",
      "test Loss: 3.2427 Acc: 0.1017\n",
      "\n",
      "Epoch 1/39\n",
      "----------\n",
      "train Loss: 3.1393 Acc: 0.0959\n",
      "test Loss: 3.0461 Acc: 0.1695\n",
      "\n",
      "Epoch 2/39\n",
      "----------\n",
      "train Loss: 2.8708 Acc: 0.1571\n",
      "test Loss: 2.8145 Acc: 0.2754\n",
      "\n",
      "Epoch 3/39\n",
      "----------\n",
      "train Loss: 2.6312 Acc: 0.2123\n",
      "test Loss: 2.6170 Acc: 0.3432\n",
      "\n",
      "Epoch 4/39\n",
      "----------\n",
      "train Loss: 2.4195 Acc: 0.2123\n",
      "test Loss: 2.4107 Acc: 0.3941\n",
      "\n",
      "Epoch 5/39\n",
      "----------\n",
      "Unfreezing top layers...\n",
      "train Loss: 2.3284 Acc: 0.2363\n",
      "test Loss: 2.3386 Acc: 0.4153\n",
      "\n",
      "Epoch 6/39\n",
      "----------\n",
      "train Loss: 2.3214 Acc: 0.3086\n",
      "test Loss: 2.2502 Acc: 0.4280\n",
      "\n",
      "Epoch 7/39\n",
      "----------\n",
      "train Loss: 2.1123 Acc: 0.3292\n",
      "test Loss: 2.1246 Acc: 0.4492\n",
      "\n",
      "Epoch 8/39\n",
      "----------\n",
      "train Loss: 2.0732 Acc: 0.3373\n",
      "test Loss: 1.9810 Acc: 0.5000\n",
      "\n",
      "Epoch 9/39\n",
      "----------\n",
      "train Loss: 1.9133 Acc: 0.4110\n",
      "test Loss: 1.8231 Acc: 0.5424\n",
      "\n",
      "Epoch 10/39\n",
      "----------\n",
      "train Loss: 1.8361 Acc: 0.4221\n",
      "test Loss: 1.7682 Acc: 0.5508\n",
      "\n",
      "Epoch 11/39\n",
      "----------\n",
      "train Loss: 1.7501 Acc: 0.3600\n",
      "test Loss: 1.7938 Acc: 0.5763\n",
      "\n",
      "Epoch 12/39\n",
      "----------\n",
      "train Loss: 1.7673 Acc: 0.3955\n",
      "test Loss: 1.6917 Acc: 0.5847\n",
      "\n",
      "Epoch 13/39\n",
      "----------\n",
      "train Loss: 1.6599 Acc: 0.3878\n",
      "test Loss: 1.7618 Acc: 0.5720\n",
      "\n",
      "Epoch 14/39\n",
      "----------\n",
      "train Loss: 1.7041 Acc: 0.3913\n",
      "test Loss: 1.7194 Acc: 0.5805\n",
      "\n",
      "Epoch 15/39\n",
      "----------\n",
      "Unfreezing remaining layers (full fine-tuning)...\n",
      "train Loss: 1.5044 Acc: 0.4092\n",
      "test Loss: 1.7009 Acc: 0.6059\n",
      "\n",
      "Epoch 16/39\n",
      "----------\n",
      "train Loss: 1.3676 Acc: 0.4114\n",
      "test Loss: 1.6866 Acc: 0.5932\n",
      "\n",
      "Epoch 17/39\n",
      "----------\n",
      "train Loss: 1.4400 Acc: 0.4486\n"
     ]
    },
    {
     "name": "stderr",
     "output_type": "stream",
     "text": [
      "python(27180) MallocStackLogging: can't turn off malloc stack logging because it was not enabled.\n",
      "python(27181) MallocStackLogging: can't turn off malloc stack logging because it was not enabled.\n",
      "python(27182) MallocStackLogging: can't turn off malloc stack logging because it was not enabled.\n",
      "python(27183) MallocStackLogging: can't turn off malloc stack logging because it was not enabled.\n"
     ]
    },
    {
     "name": "stdout",
     "output_type": "stream",
     "text": [
      "test Loss: 1.7026 Acc: 0.5847\n",
      "\n",
      "Epoch 18/39\n",
      "----------\n"
     ]
    },
    {
     "name": "stderr",
     "output_type": "stream",
     "text": [
      "python(27261) MallocStackLogging: can't turn off malloc stack logging because it was not enabled.\n",
      "python(27267) MallocStackLogging: can't turn off malloc stack logging because it was not enabled.\n",
      "python(27269) MallocStackLogging: can't turn off malloc stack logging because it was not enabled.\n",
      "python(27270) MallocStackLogging: can't turn off malloc stack logging because it was not enabled.\n"
     ]
    },
    {
     "name": "stdout",
     "output_type": "stream",
     "text": [
      "train Loss: 1.5558 Acc: 0.4615\n"
     ]
    },
    {
     "name": "stderr",
     "output_type": "stream",
     "text": [
      "python(28282) MallocStackLogging: can't turn off malloc stack logging because it was not enabled.\n",
      "python(28283) MallocStackLogging: can't turn off malloc stack logging because it was not enabled.\n",
      "python(28284) MallocStackLogging: can't turn off malloc stack logging because it was not enabled.\n",
      "python(28285) MallocStackLogging: can't turn off malloc stack logging because it was not enabled.\n"
     ]
    },
    {
     "name": "stdout",
     "output_type": "stream",
     "text": [
      "test Loss: 1.7049 Acc: 0.5975\n",
      "\n",
      "Epoch 19/39\n",
      "----------\n"
     ]
    },
    {
     "name": "stderr",
     "output_type": "stream",
     "text": [
      "python(28400) MallocStackLogging: can't turn off malloc stack logging because it was not enabled.\n",
      "python(28401) MallocStackLogging: can't turn off malloc stack logging because it was not enabled.\n",
      "python(28402) MallocStackLogging: can't turn off malloc stack logging because it was not enabled.\n",
      "python(28403) MallocStackLogging: can't turn off malloc stack logging because it was not enabled.\n"
     ]
    },
    {
     "name": "stdout",
     "output_type": "stream",
     "text": [
      "train Loss: 1.3686 Acc: 0.4700\n"
     ]
    },
    {
     "name": "stderr",
     "output_type": "stream",
     "text": [
      "python(29272) MallocStackLogging: can't turn off malloc stack logging because it was not enabled.\n",
      "python(29273) MallocStackLogging: can't turn off malloc stack logging because it was not enabled.\n",
      "python(29274) MallocStackLogging: can't turn off malloc stack logging because it was not enabled.\n",
      "python(29275) MallocStackLogging: can't turn off malloc stack logging because it was not enabled.\n"
     ]
    },
    {
     "name": "stdout",
     "output_type": "stream",
     "text": [
      "test Loss: 1.7099 Acc: 0.5932\n",
      "\n",
      "Epoch 20/39\n",
      "----------\n"
     ]
    },
    {
     "name": "stderr",
     "output_type": "stream",
     "text": [
      "python(29415) MallocStackLogging: can't turn off malloc stack logging because it was not enabled.\n",
      "python(29417) MallocStackLogging: can't turn off malloc stack logging because it was not enabled.\n",
      "python(29418) MallocStackLogging: can't turn off malloc stack logging because it was not enabled.\n",
      "python(29419) MallocStackLogging: can't turn off malloc stack logging because it was not enabled.\n"
     ]
    },
    {
     "name": "stdout",
     "output_type": "stream",
     "text": [
      "train Loss: 1.3161 Acc: 0.4435\n"
     ]
    },
    {
     "name": "stderr",
     "output_type": "stream",
     "text": [
      "python(30294) MallocStackLogging: can't turn off malloc stack logging because it was not enabled.\n",
      "python(30295) MallocStackLogging: can't turn off malloc stack logging because it was not enabled.\n",
      "python(30296) MallocStackLogging: can't turn off malloc stack logging because it was not enabled.\n",
      "python(30297) MallocStackLogging: can't turn off malloc stack logging because it was not enabled.\n"
     ]
    },
    {
     "name": "stdout",
     "output_type": "stream",
     "text": [
      "test Loss: 1.7241 Acc: 0.5805\n",
      "\n",
      "Epoch 21/39\n",
      "----------\n"
     ]
    },
    {
     "name": "stderr",
     "output_type": "stream",
     "text": [
      "python(30377) MallocStackLogging: can't turn off malloc stack logging because it was not enabled.\n",
      "python(30378) MallocStackLogging: can't turn off malloc stack logging because it was not enabled.\n",
      "python(30379) MallocStackLogging: can't turn off malloc stack logging because it was not enabled.\n",
      "python(30380) MallocStackLogging: can't turn off malloc stack logging because it was not enabled.\n"
     ]
    },
    {
     "name": "stdout",
     "output_type": "stream",
     "text": [
      "train Loss: 1.2896 Acc: 0.4259\n"
     ]
    },
    {
     "name": "stderr",
     "output_type": "stream",
     "text": [
      "python(31286) MallocStackLogging: can't turn off malloc stack logging because it was not enabled.\n",
      "python(31287) MallocStackLogging: can't turn off malloc stack logging because it was not enabled.\n",
      "python(31288) MallocStackLogging: can't turn off malloc stack logging because it was not enabled.\n",
      "python(31289) MallocStackLogging: can't turn off malloc stack logging because it was not enabled.\n"
     ]
    },
    {
     "name": "stdout",
     "output_type": "stream",
     "text": [
      "test Loss: 1.7258 Acc: 0.6102\n",
      "\n",
      "Epoch 22/39\n",
      "----------\n"
     ]
    },
    {
     "name": "stderr",
     "output_type": "stream",
     "text": [
      "python(31434) MallocStackLogging: can't turn off malloc stack logging because it was not enabled.\n",
      "python(31435) MallocStackLogging: can't turn off malloc stack logging because it was not enabled.\n",
      "python(31436) MallocStackLogging: can't turn off malloc stack logging because it was not enabled.\n",
      "python(31437) MallocStackLogging: can't turn off malloc stack logging because it was not enabled.\n"
     ]
    },
    {
     "name": "stdout",
     "output_type": "stream",
     "text": [
      "train Loss: 1.3286 Acc: 0.4833\n"
     ]
    },
    {
     "name": "stderr",
     "output_type": "stream",
     "text": [
      "python(32311) MallocStackLogging: can't turn off malloc stack logging because it was not enabled.\n",
      "python(32312) MallocStackLogging: can't turn off malloc stack logging because it was not enabled.\n",
      "python(32313) MallocStackLogging: can't turn off malloc stack logging because it was not enabled.\n",
      "python(32314) MallocStackLogging: can't turn off malloc stack logging because it was not enabled.\n"
     ]
    },
    {
     "name": "stdout",
     "output_type": "stream",
     "text": [
      "test Loss: 1.7370 Acc: 0.5932\n",
      "\n",
      "Epoch 23/39\n",
      "----------\n"
     ]
    },
    {
     "name": "stderr",
     "output_type": "stream",
     "text": [
      "python(32402) MallocStackLogging: can't turn off malloc stack logging because it was not enabled.\n",
      "python(32403) MallocStackLogging: can't turn off malloc stack logging because it was not enabled.\n",
      "python(32404) MallocStackLogging: can't turn off malloc stack logging because it was not enabled.\n",
      "python(32405) MallocStackLogging: can't turn off malloc stack logging because it was not enabled.\n"
     ]
    },
    {
     "name": "stdout",
     "output_type": "stream",
     "text": [
      "train Loss: 1.2896 Acc: 0.6284\n"
     ]
    },
    {
     "name": "stderr",
     "output_type": "stream",
     "text": [
      "python(34565) MallocStackLogging: can't turn off malloc stack logging because it was not enabled.\n",
      "python(34566) MallocStackLogging: can't turn off malloc stack logging because it was not enabled.\n",
      "python(34567) MallocStackLogging: can't turn off malloc stack logging because it was not enabled.\n",
      "python(34568) MallocStackLogging: can't turn off malloc stack logging because it was not enabled.\n"
     ]
    },
    {
     "name": "stdout",
     "output_type": "stream",
     "text": [
      "test Loss: 1.6832 Acc: 0.6271\n",
      "\n",
      "Epoch 24/39\n",
      "----------\n"
     ]
    },
    {
     "name": "stderr",
     "output_type": "stream",
     "text": [
      "python(34858) MallocStackLogging: can't turn off malloc stack logging because it was not enabled.\n",
      "python(34859) MallocStackLogging: can't turn off malloc stack logging because it was not enabled.\n",
      "python(34860) MallocStackLogging: can't turn off malloc stack logging because it was not enabled.\n",
      "python(34861) MallocStackLogging: can't turn off malloc stack logging because it was not enabled.\n"
     ]
    },
    {
     "ename": "",
     "evalue": "",
     "output_type": "error",
     "traceback": [
      "\u001b[1;31mFailed to interrupt the Kernel. \n",
      "\u001b[1;31mUnable to start Kernel 'base (Python 3.12.2)' due to a timeout waiting for the ports to get used. \n",
      "\u001b[1;31mView Jupyter <a href='command:jupyter.viewOutput'>log</a> for further details."
     ]
    }
   ],
   "source": [
    "# --------------------------\n",
    "# Train\n",
    "# --------------------------\n",
    "model, history = train_model(\n",
    "    model=model,\n",
    "    dataloaders=dataloaders,\n",
    "    criterion=criterion,\n",
    "    optimizer=optimizer,\n",
    "    scheduler=scheduler,\n",
    "    num_epochs=EPOCHS\n",
    ")\n",
    "\n",
    "train_losses, test_losses, train_accuracies, test_accuracies = history\n"
   ]
  },
  {
   "cell_type": "code",
   "execution_count": 1,
   "metadata": {},
   "outputs": [
    {
     "ename": "NameError",
     "evalue": "name 'torch' is not defined",
     "output_type": "error",
     "traceback": [
      "\u001b[0;31m---------------------------------------------------------------------------\u001b[0m",
      "\u001b[0;31mNameError\u001b[0m                                 Traceback (most recent call last)",
      "\u001b[1;32m/Users/mac/Desktop/Machine Learning/main3.ipynb Cell 9\u001b[0m line \u001b[0;36m4\n\u001b[1;32m      <a href='vscode-notebook-cell:/Users/mac/Desktop/Machine%20Learning/main3.ipynb#X11sZmlsZQ%3D%3D?line=0'>1</a>\u001b[0m \u001b[39m# --------------------------\u001b[39;00m\n\u001b[1;32m      <a href='vscode-notebook-cell:/Users/mac/Desktop/Machine%20Learning/main3.ipynb#X11sZmlsZQ%3D%3D?line=1'>2</a>\u001b[0m \u001b[39m# Save best model\u001b[39;00m\n\u001b[1;32m      <a href='vscode-notebook-cell:/Users/mac/Desktop/Machine%20Learning/main3.ipynb#X11sZmlsZQ%3D%3D?line=2'>3</a>\u001b[0m \u001b[39m# --------------------------\u001b[39;00m\n\u001b[0;32m----> <a href='vscode-notebook-cell:/Users/mac/Desktop/Machine%20Learning/main3.ipynb#X11sZmlsZQ%3D%3D?line=3'>4</a>\u001b[0m torch\u001b[39m.\u001b[39msave(model\u001b[39m.\u001b[39mstate_dict(), \u001b[39m\"\u001b[39m\u001b[39mplant_disease_efficientnet_b3_mixup_best.pth\u001b[39m\u001b[39m\"\u001b[39m)\n",
      "\u001b[0;31mNameError\u001b[0m: name 'torch' is not defined"
     ]
    }
   ],
   "source": [
    "# --------------------------\n",
    "# Save best model\n",
    "# --------------------------\n",
    "torch.save(model.state_dict(), \"plant_disease_efficientnet_b3_mixup_best.pth\")\n"
   ]
  },
  {
   "cell_type": "code",
   "execution_count": 2,
   "metadata": {},
   "outputs": [
    {
     "name": "stdout",
     "output_type": "stream",
     "text": [
      "Visualizing some predictions...\n"
     ]
    },
    {
     "ename": "NameError",
     "evalue": "name 'model' is not defined",
     "output_type": "error",
     "traceback": [
      "\u001b[0;31m---------------------------------------------------------------------------\u001b[0m",
      "\u001b[0;31mNameError\u001b[0m                                 Traceback (most recent call last)",
      "\u001b[1;32m/Users/mac/Desktop/Machine Learning/main3.ipynb Cell 10\u001b[0m line \u001b[0;36m4\n\u001b[1;32m     <a href='vscode-notebook-cell:/Users/mac/Desktop/Machine%20Learning/main3.ipynb#X12sZmlsZQ%3D%3D?line=36'>37</a>\u001b[0m     model\u001b[39m.\u001b[39mtrain(mode\u001b[39m=\u001b[39mwas_training)\n\u001b[1;32m     <a href='vscode-notebook-cell:/Users/mac/Desktop/Machine%20Learning/main3.ipynb#X12sZmlsZQ%3D%3D?line=38'>39</a>\u001b[0m \u001b[39mprint\u001b[39m(\u001b[39m\"\u001b[39m\u001b[39mVisualizing some predictions...\u001b[39m\u001b[39m\"\u001b[39m)\n\u001b[0;32m---> <a href='vscode-notebook-cell:/Users/mac/Desktop/Machine%20Learning/main3.ipynb#X12sZmlsZQ%3D%3D?line=39'>40</a>\u001b[0m visualize_model(model, dataloaders[\u001b[39m'\u001b[39m\u001b[39mtest\u001b[39m\u001b[39m'\u001b[39m], class_names)\n",
      "\u001b[0;31mNameError\u001b[0m: name 'model' is not defined"
     ]
    }
   ],
   "source": [
    "\n",
    "\n",
    "# --------------------------\n",
    "# Visualization of Predictions\n",
    "# --------------------------\n",
    "def visualize_model(model, dataloader, class_names, num_images=6):\n",
    "    was_training = model.training\n",
    "    model.eval()\n",
    "    images_so_far = 0\n",
    "    plt.figure()\n",
    "\n",
    "    mean = np.array([0.485, 0.456, 0.406])\n",
    "    std = np.array([0.229, 0.224, 0.225])\n",
    "\n",
    "    with torch.no_grad():\n",
    "        for inputs, labels in dataloader:\n",
    "            inputs = inputs.to(device)\n",
    "            labels = labels.to(device)\n",
    "\n",
    "            outputs = model(inputs)\n",
    "            _, preds = torch.max(outputs, 1)\n",
    "\n",
    "            for j in range(inputs.size(0)):\n",
    "                images_so_far += 1\n",
    "\n",
    "                plt.subplot(num_images//2, 2, images_so_far)\n",
    "                plt.axis('off')\n",
    "                plt.title(f'pred: {class_names[preds[j]]}')\n",
    "\n",
    "                img = inputs[j].cpu().numpy().transpose((1, 2, 0))\n",
    "                img = std * img + mean\n",
    "                img = np.clip(img, 0, 1)\n",
    "\n",
    "                plt.imshow(img)\n",
    "                if images_so_far == num_images:\n",
    "                    model.train(mode=was_training)\n",
    "                    plt.show()\n",
    "                    return\n",
    "    model.train(mode=was_training)\n",
    "\n",
    "print(\"Visualizing some predictions...\")\n",
    "visualize_model(model, dataloaders['test'], class_names)\n",
    "\n"
   ]
  },
  {
   "cell_type": "code",
   "execution_count": 3,
   "metadata": {},
   "outputs": [
    {
     "ename": "NameError",
     "evalue": "name 'plt' is not defined",
     "output_type": "error",
     "traceback": [
      "\u001b[0;31m---------------------------------------------------------------------------\u001b[0m",
      "\u001b[0;31mNameError\u001b[0m                                 Traceback (most recent call last)",
      "\u001b[1;32m/Users/mac/Desktop/Machine Learning/main3.ipynb Cell 11\u001b[0m line \u001b[0;36m7\n\u001b[1;32m      <a href='vscode-notebook-cell:/Users/mac/Desktop/Machine%20Learning/main3.ipynb#X13sZmlsZQ%3D%3D?line=0'>1</a>\u001b[0m \u001b[39m# --------------------------\u001b[39;00m\n\u001b[1;32m      <a href='vscode-notebook-cell:/Users/mac/Desktop/Machine%20Learning/main3.ipynb#X13sZmlsZQ%3D%3D?line=1'>2</a>\u001b[0m \u001b[39m# Plot Accuracy and Loss\u001b[39;00m\n\u001b[1;32m      <a href='vscode-notebook-cell:/Users/mac/Desktop/Machine%20Learning/main3.ipynb#X13sZmlsZQ%3D%3D?line=2'>3</a>\u001b[0m \u001b[39m# --------------------------\u001b[39;00m\n\u001b[1;32m      <a href='vscode-notebook-cell:/Users/mac/Desktop/Machine%20Learning/main3.ipynb#X13sZmlsZQ%3D%3D?line=3'>4</a>\u001b[0m \u001b[39m# We'll make separate plots for clarity.\u001b[39;00m\n\u001b[1;32m      <a href='vscode-notebook-cell:/Users/mac/Desktop/Machine%20Learning/main3.ipynb#X13sZmlsZQ%3D%3D?line=4'>5</a>\u001b[0m \n\u001b[1;32m      <a href='vscode-notebook-cell:/Users/mac/Desktop/Machine%20Learning/main3.ipynb#X13sZmlsZQ%3D%3D?line=5'>6</a>\u001b[0m \u001b[39m# 1) Plot training vs. test accuracy\u001b[39;00m\n\u001b[0;32m----> <a href='vscode-notebook-cell:/Users/mac/Desktop/Machine%20Learning/main3.ipynb#X13sZmlsZQ%3D%3D?line=6'>7</a>\u001b[0m plt\u001b[39m.\u001b[39mfigure()\n\u001b[1;32m      <a href='vscode-notebook-cell:/Users/mac/Desktop/Machine%20Learning/main3.ipynb#X13sZmlsZQ%3D%3D?line=7'>8</a>\u001b[0m plt\u001b[39m.\u001b[39mplot(\u001b[39mrange\u001b[39m(EPOCHS), train_accuracies, label\u001b[39m=\u001b[39m\u001b[39m'\u001b[39m\u001b[39mTrain Accuracy\u001b[39m\u001b[39m'\u001b[39m)\n\u001b[1;32m      <a href='vscode-notebook-cell:/Users/mac/Desktop/Machine%20Learning/main3.ipynb#X13sZmlsZQ%3D%3D?line=8'>9</a>\u001b[0m plt\u001b[39m.\u001b[39mplot(\u001b[39mrange\u001b[39m(EPOCHS), test_accuracies, label\u001b[39m=\u001b[39m\u001b[39m'\u001b[39m\u001b[39mTest Accuracy\u001b[39m\u001b[39m'\u001b[39m)\n",
      "\u001b[0;31mNameError\u001b[0m: name 'plt' is not defined"
     ]
    }
   ],
   "source": [
    "# --------------------------\n",
    "# Plot Accuracy and Loss\n",
    "# --------------------------\n",
    "# We'll make separate plots for clarity.\n",
    "\n",
    "# 1) Plot training vs. test accuracy\n",
    "plt.figure()\n",
    "plt.plot(range(EPOCHS), train_accuracies, label='Train Accuracy')\n",
    "plt.plot(range(EPOCHS), test_accuracies, label='Test Accuracy')\n",
    "plt.xlabel('Epoch')\n",
    "plt.ylabel('Accuracy')\n",
    "plt.title('Training and Test Accuracy')\n",
    "plt.legend()\n",
    "plt.show()\n",
    "\n",
    "# 2) Plot training vs. test loss\n",
    "plt.figure()\n",
    "plt.plot(range(EPOCHS), train_losses, label='Train Loss')\n",
    "plt.plot(range(EPOCHS), test_losses, label='Test Loss')\n",
    "plt.xlabel('Epoch')\n",
    "plt.ylabel('Loss')\n",
    "plt.title('Training and Test Loss')\n",
    "plt.legend()\n",
    "plt.show()"
   ]
  }
 ],
 "metadata": {
  "kernelspec": {
   "display_name": "base",
   "language": "python",
   "name": "python3"
  },
  "language_info": {
   "codemirror_mode": {
    "name": "ipython",
    "version": 3
   },
   "file_extension": ".py",
   "mimetype": "text/x-python",
   "name": "python",
   "nbconvert_exporter": "python",
   "pygments_lexer": "ipython3",
   "version": "3.12.2"
  }
 },
 "nbformat": 4,
 "nbformat_minor": 2
}
